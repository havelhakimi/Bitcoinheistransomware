{
  "nbformat": 4,
  "nbformat_minor": 0,
  "metadata": {
    "colab": {
      "provenance": [],
      "toc_visible": true
    },
    "kernelspec": {
      "name": "python3",
      "display_name": "Python 3"
    },
    "language_info": {
      "name": "python"
    }
  },
  "cells": [
    {
      "cell_type": "markdown",
      "source": [
        "Data is availabe at : https://archive.ics.uci.edu/ml/datasets/BitcoinHeistRansomwareAddressDataset"
      ],
      "metadata": {
        "id": "6GG7moF0QehJ"
      }
    },
    {
      "cell_type": "code",
      "execution_count": null,
      "metadata": {
        "id": "v7zcjAosKfTl"
      },
      "outputs": [],
      "source": [
        "import pandas as pd\n",
        "import numpy as np\n",
        "import matplotlib.pyplot as plt"
      ]
    },
    {
      "cell_type": "markdown",
      "source": [
        "# **Loading the data**"
      ],
      "metadata": {
        "id": "1ERAJHVZQkPm"
      }
    },
    {
      "cell_type": "code",
      "source": [
        "df=pd.read_csv('/content/drive/MyDrive/Bitcoinheist/BitcoinHeistData.csv')\n",
        "df.head()"
      ],
      "metadata": {
        "colab": {
          "base_uri": "https://localhost:8080/",
          "height": 270
        },
        "id": "KCKt4LEsLlXO",
        "outputId": "bb1e9692-4258-40bb-d5c2-e600f4c16761"
      },
      "execution_count": null,
      "outputs": [
        {
          "output_type": "execute_result",
          "data": {
            "text/plain": [
              "                              address  year  day  length    weight  count  \\\n",
              "0   111K8kZAEnJg245r2cM6y9zgJGHZtJPy6  2017   11      18  0.008333      1   \n",
              "1  1123pJv8jzeFQaCV4w644pzQJzVWay2zcA  2016  132      44  0.000244      1   \n",
              "2  112536im7hy6wtKbpH1qYDWtTyMRAcA2p7  2016  246       0  1.000000      1   \n",
              "3  1126eDRw2wqSkWosjTCre8cjjQW8sSeWH7  2016  322      72  0.003906      1   \n",
              "4  1129TSjKtx65E35GiUo4AYVeyo48twbrGX  2016  238     144  0.072848    456   \n",
              "\n",
              "   looped  neighbors       income            label  \n",
              "0       0          2  100050000.0  princetonCerber  \n",
              "1       0          1  100000000.0   princetonLocky  \n",
              "2       0          2  200000000.0  princetonCerber  \n",
              "3       0          2   71200000.0  princetonCerber  \n",
              "4       0          1  200000000.0   princetonLocky  "
            ],
            "text/html": [
              "\n",
              "  <div id=\"df-f3bc8d32-a552-4c29-a147-1863d76dd6a2\">\n",
              "    <div class=\"colab-df-container\">\n",
              "      <div>\n",
              "<style scoped>\n",
              "    .dataframe tbody tr th:only-of-type {\n",
              "        vertical-align: middle;\n",
              "    }\n",
              "\n",
              "    .dataframe tbody tr th {\n",
              "        vertical-align: top;\n",
              "    }\n",
              "\n",
              "    .dataframe thead th {\n",
              "        text-align: right;\n",
              "    }\n",
              "</style>\n",
              "<table border=\"1\" class=\"dataframe\">\n",
              "  <thead>\n",
              "    <tr style=\"text-align: right;\">\n",
              "      <th></th>\n",
              "      <th>address</th>\n",
              "      <th>year</th>\n",
              "      <th>day</th>\n",
              "      <th>length</th>\n",
              "      <th>weight</th>\n",
              "      <th>count</th>\n",
              "      <th>looped</th>\n",
              "      <th>neighbors</th>\n",
              "      <th>income</th>\n",
              "      <th>label</th>\n",
              "    </tr>\n",
              "  </thead>\n",
              "  <tbody>\n",
              "    <tr>\n",
              "      <th>0</th>\n",
              "      <td>111K8kZAEnJg245r2cM6y9zgJGHZtJPy6</td>\n",
              "      <td>2017</td>\n",
              "      <td>11</td>\n",
              "      <td>18</td>\n",
              "      <td>0.008333</td>\n",
              "      <td>1</td>\n",
              "      <td>0</td>\n",
              "      <td>2</td>\n",
              "      <td>100050000.0</td>\n",
              "      <td>princetonCerber</td>\n",
              "    </tr>\n",
              "    <tr>\n",
              "      <th>1</th>\n",
              "      <td>1123pJv8jzeFQaCV4w644pzQJzVWay2zcA</td>\n",
              "      <td>2016</td>\n",
              "      <td>132</td>\n",
              "      <td>44</td>\n",
              "      <td>0.000244</td>\n",
              "      <td>1</td>\n",
              "      <td>0</td>\n",
              "      <td>1</td>\n",
              "      <td>100000000.0</td>\n",
              "      <td>princetonLocky</td>\n",
              "    </tr>\n",
              "    <tr>\n",
              "      <th>2</th>\n",
              "      <td>112536im7hy6wtKbpH1qYDWtTyMRAcA2p7</td>\n",
              "      <td>2016</td>\n",
              "      <td>246</td>\n",
              "      <td>0</td>\n",
              "      <td>1.000000</td>\n",
              "      <td>1</td>\n",
              "      <td>0</td>\n",
              "      <td>2</td>\n",
              "      <td>200000000.0</td>\n",
              "      <td>princetonCerber</td>\n",
              "    </tr>\n",
              "    <tr>\n",
              "      <th>3</th>\n",
              "      <td>1126eDRw2wqSkWosjTCre8cjjQW8sSeWH7</td>\n",
              "      <td>2016</td>\n",
              "      <td>322</td>\n",
              "      <td>72</td>\n",
              "      <td>0.003906</td>\n",
              "      <td>1</td>\n",
              "      <td>0</td>\n",
              "      <td>2</td>\n",
              "      <td>71200000.0</td>\n",
              "      <td>princetonCerber</td>\n",
              "    </tr>\n",
              "    <tr>\n",
              "      <th>4</th>\n",
              "      <td>1129TSjKtx65E35GiUo4AYVeyo48twbrGX</td>\n",
              "      <td>2016</td>\n",
              "      <td>238</td>\n",
              "      <td>144</td>\n",
              "      <td>0.072848</td>\n",
              "      <td>456</td>\n",
              "      <td>0</td>\n",
              "      <td>1</td>\n",
              "      <td>200000000.0</td>\n",
              "      <td>princetonLocky</td>\n",
              "    </tr>\n",
              "  </tbody>\n",
              "</table>\n",
              "</div>\n",
              "      <button class=\"colab-df-convert\" onclick=\"convertToInteractive('df-f3bc8d32-a552-4c29-a147-1863d76dd6a2')\"\n",
              "              title=\"Convert this dataframe to an interactive table.\"\n",
              "              style=\"display:none;\">\n",
              "        \n",
              "  <svg xmlns=\"http://www.w3.org/2000/svg\" height=\"24px\"viewBox=\"0 0 24 24\"\n",
              "       width=\"24px\">\n",
              "    <path d=\"M0 0h24v24H0V0z\" fill=\"none\"/>\n",
              "    <path d=\"M18.56 5.44l.94 2.06.94-2.06 2.06-.94-2.06-.94-.94-2.06-.94 2.06-2.06.94zm-11 1L8.5 8.5l.94-2.06 2.06-.94-2.06-.94L8.5 2.5l-.94 2.06-2.06.94zm10 10l.94 2.06.94-2.06 2.06-.94-2.06-.94-.94-2.06-.94 2.06-2.06.94z\"/><path d=\"M17.41 7.96l-1.37-1.37c-.4-.4-.92-.59-1.43-.59-.52 0-1.04.2-1.43.59L10.3 9.45l-7.72 7.72c-.78.78-.78 2.05 0 2.83L4 21.41c.39.39.9.59 1.41.59.51 0 1.02-.2 1.41-.59l7.78-7.78 2.81-2.81c.8-.78.8-2.07 0-2.86zM5.41 20L4 18.59l7.72-7.72 1.47 1.35L5.41 20z\"/>\n",
              "  </svg>\n",
              "      </button>\n",
              "      \n",
              "  <style>\n",
              "    .colab-df-container {\n",
              "      display:flex;\n",
              "      flex-wrap:wrap;\n",
              "      gap: 12px;\n",
              "    }\n",
              "\n",
              "    .colab-df-convert {\n",
              "      background-color: #E8F0FE;\n",
              "      border: none;\n",
              "      border-radius: 50%;\n",
              "      cursor: pointer;\n",
              "      display: none;\n",
              "      fill: #1967D2;\n",
              "      height: 32px;\n",
              "      padding: 0 0 0 0;\n",
              "      width: 32px;\n",
              "    }\n",
              "\n",
              "    .colab-df-convert:hover {\n",
              "      background-color: #E2EBFA;\n",
              "      box-shadow: 0px 1px 2px rgba(60, 64, 67, 0.3), 0px 1px 3px 1px rgba(60, 64, 67, 0.15);\n",
              "      fill: #174EA6;\n",
              "    }\n",
              "\n",
              "    [theme=dark] .colab-df-convert {\n",
              "      background-color: #3B4455;\n",
              "      fill: #D2E3FC;\n",
              "    }\n",
              "\n",
              "    [theme=dark] .colab-df-convert:hover {\n",
              "      background-color: #434B5C;\n",
              "      box-shadow: 0px 1px 3px 1px rgba(0, 0, 0, 0.15);\n",
              "      filter: drop-shadow(0px 1px 2px rgba(0, 0, 0, 0.3));\n",
              "      fill: #FFFFFF;\n",
              "    }\n",
              "  </style>\n",
              "\n",
              "      <script>\n",
              "        const buttonEl =\n",
              "          document.querySelector('#df-f3bc8d32-a552-4c29-a147-1863d76dd6a2 button.colab-df-convert');\n",
              "        buttonEl.style.display =\n",
              "          google.colab.kernel.accessAllowed ? 'block' : 'none';\n",
              "\n",
              "        async function convertToInteractive(key) {\n",
              "          const element = document.querySelector('#df-f3bc8d32-a552-4c29-a147-1863d76dd6a2');\n",
              "          const dataTable =\n",
              "            await google.colab.kernel.invokeFunction('convertToInteractive',\n",
              "                                                     [key], {});\n",
              "          if (!dataTable) return;\n",
              "\n",
              "          const docLinkHtml = 'Like what you see? Visit the ' +\n",
              "            '<a target=\"_blank\" href=https://colab.research.google.com/notebooks/data_table.ipynb>data table notebook</a>'\n",
              "            + ' to learn more about interactive tables.';\n",
              "          element.innerHTML = '';\n",
              "          dataTable['output_type'] = 'display_data';\n",
              "          await google.colab.output.renderOutput(dataTable, element);\n",
              "          const docLink = document.createElement('div');\n",
              "          docLink.innerHTML = docLinkHtml;\n",
              "          element.appendChild(docLink);\n",
              "        }\n",
              "      </script>\n",
              "    </div>\n",
              "  </div>\n",
              "  "
            ]
          },
          "metadata": {},
          "execution_count": 3
        }
      ]
    },
    {
      "cell_type": "code",
      "source": [
        "df.shape"
      ],
      "metadata": {
        "colab": {
          "base_uri": "https://localhost:8080/"
        },
        "id": "QNiS7SRIM7aK",
        "outputId": "6dec2938-ed6d-4d57-a102-a228bb6dc2b3"
      },
      "execution_count": null,
      "outputs": [
        {
          "output_type": "execute_result",
          "data": {
            "text/plain": [
              "(2916697, 10)"
            ]
          },
          "metadata": {},
          "execution_count": 4
        }
      ]
    },
    {
      "cell_type": "code",
      "source": [
        "df.info()"
      ],
      "metadata": {
        "colab": {
          "base_uri": "https://localhost:8080/"
        },
        "id": "Ls2ZuQVtLxhM",
        "outputId": "899c567e-f433-4340-9f63-3db3085e819b"
      },
      "execution_count": null,
      "outputs": [
        {
          "output_type": "stream",
          "name": "stdout",
          "text": [
            "<class 'pandas.core.frame.DataFrame'>\n",
            "RangeIndex: 2916697 entries, 0 to 2916696\n",
            "Data columns (total 10 columns):\n",
            " #   Column     Dtype  \n",
            "---  ------     -----  \n",
            " 0   address    object \n",
            " 1   year       int64  \n",
            " 2   day        int64  \n",
            " 3   length     int64  \n",
            " 4   weight     float64\n",
            " 5   count      int64  \n",
            " 6   looped     int64  \n",
            " 7   neighbors  int64  \n",
            " 8   income     float64\n",
            " 9   label      object \n",
            "dtypes: float64(2), int64(6), object(2)\n",
            "memory usage: 222.5+ MB\n"
          ]
        }
      ]
    },
    {
      "cell_type": "markdown",
      "source": [
        "## **Finding Nan values**"
      ],
      "metadata": {
        "id": "Eal1iHChA79b"
      }
    },
    {
      "cell_type": "code",
      "source": [
        "df.isnull().sum()"
      ],
      "metadata": {
        "colab": {
          "base_uri": "https://localhost:8080/"
        },
        "id": "nmMJdyXbM1mH",
        "outputId": "19fe4da9-b69b-4db3-984f-d7b5798dfa36"
      },
      "execution_count": null,
      "outputs": [
        {
          "output_type": "execute_result",
          "data": {
            "text/plain": [
              "address      0\n",
              "year         0\n",
              "day          0\n",
              "length       0\n",
              "weight       0\n",
              "count        0\n",
              "looped       0\n",
              "neighbors    0\n",
              "income       0\n",
              "label        0\n",
              "dtype: int64"
            ]
          },
          "metadata": {},
          "execution_count": 6
        }
      ]
    },
    {
      "cell_type": "markdown",
      "source": [
        "There are non Nan values in any of the attributes."
      ],
      "metadata": {
        "id": "TZJaLuieA-WS"
      }
    },
    {
      "cell_type": "code",
      "source": [
        "df.label.value_counts()"
      ],
      "metadata": {
        "colab": {
          "base_uri": "https://localhost:8080/"
        },
        "id": "d5zxppGeSTe1",
        "outputId": "e56d55c4-cbc5-4fea-eb79-65a6cf08fc6a"
      },
      "execution_count": null,
      "outputs": [
        {
          "output_type": "execute_result",
          "data": {
            "text/plain": [
              "white                          2875284\n",
              "paduaCryptoWall                  12390\n",
              "montrealCryptoLocker              9315\n",
              "princetonCerber                   9223\n",
              "princetonLocky                    6625\n",
              "montrealCryptXXX                  2419\n",
              "montrealNoobCrypt                  483\n",
              "montrealDMALockerv3                354\n",
              "montrealDMALocker                  251\n",
              "montrealSamSam                      62\n",
              "montrealCryptoTorLocker2015         55\n",
              "montrealGlobeImposter               55\n",
              "montrealGlobev3                     34\n",
              "montrealGlobe                       32\n",
              "montrealWannaCry                    28\n",
              "montrealRazy                        13\n",
              "montrealAPT                         11\n",
              "paduaKeRanger                       10\n",
              "montrealFlyper                       9\n",
              "montrealXTPLocker                    8\n",
              "montrealXLockerv5.0                  7\n",
              "montrealVenusLocker                  7\n",
              "montrealCryptConsole                 7\n",
              "montrealEDA2                         6\n",
              "montrealJigSaw                       4\n",
              "paduaJigsaw                          2\n",
              "montrealXLocker                      1\n",
              "montrealSam                          1\n",
              "montrealComradeCircle                1\n",
              "Name: label, dtype: int64"
            ]
          },
          "metadata": {},
          "execution_count": 8
        }
      ]
    },
    {
      "cell_type": "code",
      "source": [
        "df.label.value_counts(normalize=True)*100"
      ],
      "metadata": {
        "colab": {
          "base_uri": "https://localhost:8080/"
        },
        "id": "eOVe-fkyUMOD",
        "outputId": "168564d9-35fc-4406-ee24-48d48d5bd38d"
      },
      "execution_count": null,
      "outputs": [
        {
          "output_type": "execute_result",
          "data": {
            "text/plain": [
              "white                          98.580140\n",
              "paduaCryptoWall                 0.424796\n",
              "montrealCryptoLocker            0.319368\n",
              "princetonCerber                 0.316214\n",
              "princetonLocky                  0.227140\n",
              "montrealCryptXXX                0.082936\n",
              "montrealNoobCrypt               0.016560\n",
              "montrealDMALockerv3             0.012137\n",
              "montrealDMALocker               0.008606\n",
              "montrealSamSam                  0.002126\n",
              "montrealCryptoTorLocker2015     0.001886\n",
              "montrealGlobeImposter           0.001886\n",
              "montrealGlobev3                 0.001166\n",
              "montrealGlobe                   0.001097\n",
              "montrealWannaCry                0.000960\n",
              "montrealRazy                    0.000446\n",
              "montrealAPT                     0.000377\n",
              "paduaKeRanger                   0.000343\n",
              "montrealFlyper                  0.000309\n",
              "montrealXTPLocker               0.000274\n",
              "montrealXLockerv5.0             0.000240\n",
              "montrealVenusLocker             0.000240\n",
              "montrealCryptConsole            0.000240\n",
              "montrealEDA2                    0.000206\n",
              "montrealJigSaw                  0.000137\n",
              "paduaJigsaw                     0.000069\n",
              "montrealXLocker                 0.000034\n",
              "montrealSam                     0.000034\n",
              "montrealComradeCircle           0.000034\n",
              "Name: label, dtype: float64"
            ]
          },
          "metadata": {},
          "execution_count": 7
        }
      ]
    },
    {
      "cell_type": "markdown",
      "source": [
        "## **Selecting the numerical features**"
      ],
      "metadata": {
        "id": "WQC5grggQsuS"
      }
    },
    {
      "cell_type": "code",
      "source": [
        "numerical_cols = [col for col in df.columns if df[col].dtype in ['int64', 'float64']]\n",
        "df_X=df[numerical_cols]\n",
        "df_Y=df['label']\n",
        "#numerical_cols"
      ],
      "metadata": {
        "id": "lwZeymf9d_pK"
      },
      "execution_count": null,
      "outputs": []
    },
    {
      "cell_type": "markdown",
      "source": [
        "# **Custom designed train-test split function**\n",
        "\n",
        "Splitting the data into training, validation and testing set (70:15:15)</br>\n",
        "For customisation, the original indices have been shuffled randomly using seed value=0 and then training, test and validation data has been obtained.\n",
        "</br>\n"
      ],
      "metadata": {
        "id": "y6l6tjHnMZZl"
      }
    },
    {
      "cell_type": "code",
      "source": [
        "def train_test_split(dframe_X,dframe_Y,size,random_state=0):\n",
        "\n",
        "  np.random.seed(random_state) # seed value=0\n",
        "  \n",
        "  indices = [i for i in range(len(dframe_X))]\n",
        "  np.random.shuffle(indices)\n",
        "  #print(indices)\n",
        "  num_training_indices=int(len(dframe_X)* (1-size))\n",
        "  #print(num_training_indices)\n",
        "  train_indices = indices[:num_training_indices]\n",
        "  test_indices = indices[num_training_indices:]\n",
        "  X_data_train, X_data_test = dframe_X.iloc[train_indices], dframe_X.iloc[test_indices]\n",
        "  Y_data_train, Y_data_test = dframe_Y.iloc[train_indices], dframe_Y.iloc[test_indices]\n",
        "  \n",
        "  return X_data_train,X_data_test,Y_data_train,Y_data_test\n",
        "\n"
      ],
      "metadata": {
        "id": "hLPf5y1VeuPG"
      },
      "execution_count": null,
      "outputs": []
    },
    {
      "cell_type": "code",
      "source": [
        "X_,X_test,Y_,Y_test=train_test_split(df_X,df_Y,size=0.15)\n",
        "X_train,X_val,Y_train,Y_val=train_test_split(X_,Y_,size=0.15)"
      ],
      "metadata": {
        "id": "Vf-DwAPNl9Ox"
      },
      "execution_count": null,
      "outputs": []
    },
    {
      "cell_type": "markdown",
      "source": [
        "To illustrate that the randomized split is a good representative of the original data, the percentage distribution of the different class labels in the shuffled data has been calculated as follows"
      ],
      "metadata": {
        "id": "RnEcXl3HFLNc"
      }
    },
    {
      "cell_type": "code",
      "source": [
        "ser1=df_Y.value_counts(normalize=True)*100\n",
        "repr=pd.DataFrame(ser1,)\n",
        "repr.rename(columns = {'label':'Initial comp %'}, inplace = True)\n",
        "repr['Train %']=Y_train.value_counts(normalize=True)*100\n",
        "repr['Test %']=Y_test.value_counts(normalize=True)*100\n",
        "repr['Val %']=Y_val.value_counts(normalize=True)*100\n",
        "repr['Initial comp']=df_Y.value_counts()\n",
        "repr['Train']=Y_train.value_counts()\n",
        "repr['Test']=Y_test.value_counts()\n",
        "repr['Val']=Y_val.value_counts()\n",
        "\n",
        "\n",
        "repr"
      ],
      "metadata": {
        "colab": {
          "base_uri": "https://localhost:8080/",
          "height": 958
        },
        "id": "4C7PAvVsNyk2",
        "outputId": "5ff45d85-dcfa-4c47-ab0d-0820a9712e42"
      },
      "execution_count": null,
      "outputs": [
        {
          "output_type": "execute_result",
          "data": {
            "text/plain": [
              "                             Initial comp %    Train %     Test %      Val %  \\\n",
              "white                             98.580140  98.581132  98.579902  98.574805   \n",
              "paduaCryptoWall                    0.424796   0.427511   0.412110   0.424332   \n",
              "montrealCryptoLocker               0.319368   0.317086   0.322053   0.329139   \n",
              "princetonCerber                    0.316214   0.315900   0.314968   0.319459   \n",
              "princetonLocky                     0.227140   0.226924   0.229940   0.225073   \n",
              "montrealCryptXXX                   0.082936   0.081953   0.090742   0.079327   \n",
              "montrealNoobCrypt                  0.016560   0.016561   0.017371   0.015596   \n",
              "montrealDMALockerv3                0.012137   0.011579   0.012800   0.014521   \n",
              "montrealDMALocker                  0.008606   0.009016   0.008000   0.006992   \n",
              "montrealSamSam                     0.002126   0.002041   0.002057   0.002689   \n",
              "montrealCryptoTorLocker2015        0.001886   0.002135   0.001143   0.001345   \n",
              "montrealGlobeImposter              0.001886   0.001566   0.002971   0.002420   \n",
              "montrealGlobev3                    0.001166   0.001329   0.000914   0.000538   \n",
              "montrealGlobe                      0.001097   0.001139   0.000686   0.001345   \n",
              "montrealWannaCry                   0.000960   0.001091   0.001143        NaN   \n",
              "montrealRazy                       0.000446   0.000285   0.001143   0.000538   \n",
              "montrealAPT                        0.000377   0.000427   0.000229   0.000269   \n",
              "paduaKeRanger                      0.000343   0.000332   0.000457   0.000269   \n",
              "montrealFlyper                     0.000309   0.000285   0.000457   0.000269   \n",
              "montrealXTPLocker                  0.000274   0.000332   0.000229        NaN   \n",
              "montrealXLockerv5.0                0.000240   0.000190   0.000457   0.000269   \n",
              "montrealVenusLocker                0.000240   0.000332        NaN        NaN   \n",
              "montrealCryptConsole               0.000240   0.000237   0.000229   0.000269   \n",
              "montrealEDA2                       0.000206   0.000237        NaN   0.000269   \n",
              "montrealJigSaw                     0.000137   0.000142        NaN   0.000269   \n",
              "paduaJigsaw                        0.000069   0.000095        NaN        NaN   \n",
              "montrealXLocker                    0.000034   0.000047        NaN        NaN   \n",
              "montrealSam                        0.000034   0.000047        NaN        NaN   \n",
              "montrealComradeCircle              0.000034   0.000047        NaN        NaN   \n",
              "\n",
              "                             Initial comp    Train      Test       Val  \n",
              "white                             2875284  2077413  431292.0  366579.0  \n",
              "paduaCryptoWall                     12390     9009    1803.0    1578.0  \n",
              "montrealCryptoLocker                 9315     6682    1409.0    1224.0  \n",
              "princetonCerber                      9223     6657    1378.0    1188.0  \n",
              "princetonLocky                       6625     4782    1006.0     837.0  \n",
              "montrealCryptXXX                     2419     1727     397.0     295.0  \n",
              "montrealNoobCrypt                     483      349      76.0      58.0  \n",
              "montrealDMALockerv3                   354      244      56.0      54.0  \n",
              "montrealDMALocker                     251      190      35.0      26.0  \n",
              "montrealSamSam                         62       43       9.0      10.0  \n",
              "montrealCryptoTorLocker2015            55       45       5.0       5.0  \n",
              "montrealGlobeImposter                  55       33      13.0       9.0  \n",
              "montrealGlobev3                        34       28       4.0       2.0  \n",
              "montrealGlobe                          32       24       3.0       5.0  \n",
              "montrealWannaCry                       28       23       5.0       NaN  \n",
              "montrealRazy                           13        6       5.0       2.0  \n",
              "montrealAPT                            11        9       1.0       1.0  \n",
              "paduaKeRanger                          10        7       2.0       1.0  \n",
              "montrealFlyper                          9        6       2.0       1.0  \n",
              "montrealXTPLocker                       8        7       1.0       NaN  \n",
              "montrealXLockerv5.0                     7        4       2.0       1.0  \n",
              "montrealVenusLocker                     7        7       NaN       NaN  \n",
              "montrealCryptConsole                    7        5       1.0       1.0  \n",
              "montrealEDA2                            6        5       NaN       1.0  \n",
              "montrealJigSaw                          4        3       NaN       1.0  \n",
              "paduaJigsaw                             2        2       NaN       NaN  \n",
              "montrealXLocker                         1        1       NaN       NaN  \n",
              "montrealSam                             1        1       NaN       NaN  \n",
              "montrealComradeCircle                   1        1       NaN       NaN  "
            ],
            "text/html": [
              "\n",
              "  <div id=\"df-35a8f17d-b8a5-40bc-afa2-e88885320d43\">\n",
              "    <div class=\"colab-df-container\">\n",
              "      <div>\n",
              "<style scoped>\n",
              "    .dataframe tbody tr th:only-of-type {\n",
              "        vertical-align: middle;\n",
              "    }\n",
              "\n",
              "    .dataframe tbody tr th {\n",
              "        vertical-align: top;\n",
              "    }\n",
              "\n",
              "    .dataframe thead th {\n",
              "        text-align: right;\n",
              "    }\n",
              "</style>\n",
              "<table border=\"1\" class=\"dataframe\">\n",
              "  <thead>\n",
              "    <tr style=\"text-align: right;\">\n",
              "      <th></th>\n",
              "      <th>Initial comp %</th>\n",
              "      <th>Train %</th>\n",
              "      <th>Test %</th>\n",
              "      <th>Val %</th>\n",
              "      <th>Initial comp</th>\n",
              "      <th>Train</th>\n",
              "      <th>Test</th>\n",
              "      <th>Val</th>\n",
              "    </tr>\n",
              "  </thead>\n",
              "  <tbody>\n",
              "    <tr>\n",
              "      <th>white</th>\n",
              "      <td>98.580140</td>\n",
              "      <td>98.581132</td>\n",
              "      <td>98.579902</td>\n",
              "      <td>98.574805</td>\n",
              "      <td>2875284</td>\n",
              "      <td>2077413</td>\n",
              "      <td>431292.0</td>\n",
              "      <td>366579.0</td>\n",
              "    </tr>\n",
              "    <tr>\n",
              "      <th>paduaCryptoWall</th>\n",
              "      <td>0.424796</td>\n",
              "      <td>0.427511</td>\n",
              "      <td>0.412110</td>\n",
              "      <td>0.424332</td>\n",
              "      <td>12390</td>\n",
              "      <td>9009</td>\n",
              "      <td>1803.0</td>\n",
              "      <td>1578.0</td>\n",
              "    </tr>\n",
              "    <tr>\n",
              "      <th>montrealCryptoLocker</th>\n",
              "      <td>0.319368</td>\n",
              "      <td>0.317086</td>\n",
              "      <td>0.322053</td>\n",
              "      <td>0.329139</td>\n",
              "      <td>9315</td>\n",
              "      <td>6682</td>\n",
              "      <td>1409.0</td>\n",
              "      <td>1224.0</td>\n",
              "    </tr>\n",
              "    <tr>\n",
              "      <th>princetonCerber</th>\n",
              "      <td>0.316214</td>\n",
              "      <td>0.315900</td>\n",
              "      <td>0.314968</td>\n",
              "      <td>0.319459</td>\n",
              "      <td>9223</td>\n",
              "      <td>6657</td>\n",
              "      <td>1378.0</td>\n",
              "      <td>1188.0</td>\n",
              "    </tr>\n",
              "    <tr>\n",
              "      <th>princetonLocky</th>\n",
              "      <td>0.227140</td>\n",
              "      <td>0.226924</td>\n",
              "      <td>0.229940</td>\n",
              "      <td>0.225073</td>\n",
              "      <td>6625</td>\n",
              "      <td>4782</td>\n",
              "      <td>1006.0</td>\n",
              "      <td>837.0</td>\n",
              "    </tr>\n",
              "    <tr>\n",
              "      <th>montrealCryptXXX</th>\n",
              "      <td>0.082936</td>\n",
              "      <td>0.081953</td>\n",
              "      <td>0.090742</td>\n",
              "      <td>0.079327</td>\n",
              "      <td>2419</td>\n",
              "      <td>1727</td>\n",
              "      <td>397.0</td>\n",
              "      <td>295.0</td>\n",
              "    </tr>\n",
              "    <tr>\n",
              "      <th>montrealNoobCrypt</th>\n",
              "      <td>0.016560</td>\n",
              "      <td>0.016561</td>\n",
              "      <td>0.017371</td>\n",
              "      <td>0.015596</td>\n",
              "      <td>483</td>\n",
              "      <td>349</td>\n",
              "      <td>76.0</td>\n",
              "      <td>58.0</td>\n",
              "    </tr>\n",
              "    <tr>\n",
              "      <th>montrealDMALockerv3</th>\n",
              "      <td>0.012137</td>\n",
              "      <td>0.011579</td>\n",
              "      <td>0.012800</td>\n",
              "      <td>0.014521</td>\n",
              "      <td>354</td>\n",
              "      <td>244</td>\n",
              "      <td>56.0</td>\n",
              "      <td>54.0</td>\n",
              "    </tr>\n",
              "    <tr>\n",
              "      <th>montrealDMALocker</th>\n",
              "      <td>0.008606</td>\n",
              "      <td>0.009016</td>\n",
              "      <td>0.008000</td>\n",
              "      <td>0.006992</td>\n",
              "      <td>251</td>\n",
              "      <td>190</td>\n",
              "      <td>35.0</td>\n",
              "      <td>26.0</td>\n",
              "    </tr>\n",
              "    <tr>\n",
              "      <th>montrealSamSam</th>\n",
              "      <td>0.002126</td>\n",
              "      <td>0.002041</td>\n",
              "      <td>0.002057</td>\n",
              "      <td>0.002689</td>\n",
              "      <td>62</td>\n",
              "      <td>43</td>\n",
              "      <td>9.0</td>\n",
              "      <td>10.0</td>\n",
              "    </tr>\n",
              "    <tr>\n",
              "      <th>montrealCryptoTorLocker2015</th>\n",
              "      <td>0.001886</td>\n",
              "      <td>0.002135</td>\n",
              "      <td>0.001143</td>\n",
              "      <td>0.001345</td>\n",
              "      <td>55</td>\n",
              "      <td>45</td>\n",
              "      <td>5.0</td>\n",
              "      <td>5.0</td>\n",
              "    </tr>\n",
              "    <tr>\n",
              "      <th>montrealGlobeImposter</th>\n",
              "      <td>0.001886</td>\n",
              "      <td>0.001566</td>\n",
              "      <td>0.002971</td>\n",
              "      <td>0.002420</td>\n",
              "      <td>55</td>\n",
              "      <td>33</td>\n",
              "      <td>13.0</td>\n",
              "      <td>9.0</td>\n",
              "    </tr>\n",
              "    <tr>\n",
              "      <th>montrealGlobev3</th>\n",
              "      <td>0.001166</td>\n",
              "      <td>0.001329</td>\n",
              "      <td>0.000914</td>\n",
              "      <td>0.000538</td>\n",
              "      <td>34</td>\n",
              "      <td>28</td>\n",
              "      <td>4.0</td>\n",
              "      <td>2.0</td>\n",
              "    </tr>\n",
              "    <tr>\n",
              "      <th>montrealGlobe</th>\n",
              "      <td>0.001097</td>\n",
              "      <td>0.001139</td>\n",
              "      <td>0.000686</td>\n",
              "      <td>0.001345</td>\n",
              "      <td>32</td>\n",
              "      <td>24</td>\n",
              "      <td>3.0</td>\n",
              "      <td>5.0</td>\n",
              "    </tr>\n",
              "    <tr>\n",
              "      <th>montrealWannaCry</th>\n",
              "      <td>0.000960</td>\n",
              "      <td>0.001091</td>\n",
              "      <td>0.001143</td>\n",
              "      <td>NaN</td>\n",
              "      <td>28</td>\n",
              "      <td>23</td>\n",
              "      <td>5.0</td>\n",
              "      <td>NaN</td>\n",
              "    </tr>\n",
              "    <tr>\n",
              "      <th>montrealRazy</th>\n",
              "      <td>0.000446</td>\n",
              "      <td>0.000285</td>\n",
              "      <td>0.001143</td>\n",
              "      <td>0.000538</td>\n",
              "      <td>13</td>\n",
              "      <td>6</td>\n",
              "      <td>5.0</td>\n",
              "      <td>2.0</td>\n",
              "    </tr>\n",
              "    <tr>\n",
              "      <th>montrealAPT</th>\n",
              "      <td>0.000377</td>\n",
              "      <td>0.000427</td>\n",
              "      <td>0.000229</td>\n",
              "      <td>0.000269</td>\n",
              "      <td>11</td>\n",
              "      <td>9</td>\n",
              "      <td>1.0</td>\n",
              "      <td>1.0</td>\n",
              "    </tr>\n",
              "    <tr>\n",
              "      <th>paduaKeRanger</th>\n",
              "      <td>0.000343</td>\n",
              "      <td>0.000332</td>\n",
              "      <td>0.000457</td>\n",
              "      <td>0.000269</td>\n",
              "      <td>10</td>\n",
              "      <td>7</td>\n",
              "      <td>2.0</td>\n",
              "      <td>1.0</td>\n",
              "    </tr>\n",
              "    <tr>\n",
              "      <th>montrealFlyper</th>\n",
              "      <td>0.000309</td>\n",
              "      <td>0.000285</td>\n",
              "      <td>0.000457</td>\n",
              "      <td>0.000269</td>\n",
              "      <td>9</td>\n",
              "      <td>6</td>\n",
              "      <td>2.0</td>\n",
              "      <td>1.0</td>\n",
              "    </tr>\n",
              "    <tr>\n",
              "      <th>montrealXTPLocker</th>\n",
              "      <td>0.000274</td>\n",
              "      <td>0.000332</td>\n",
              "      <td>0.000229</td>\n",
              "      <td>NaN</td>\n",
              "      <td>8</td>\n",
              "      <td>7</td>\n",
              "      <td>1.0</td>\n",
              "      <td>NaN</td>\n",
              "    </tr>\n",
              "    <tr>\n",
              "      <th>montrealXLockerv5.0</th>\n",
              "      <td>0.000240</td>\n",
              "      <td>0.000190</td>\n",
              "      <td>0.000457</td>\n",
              "      <td>0.000269</td>\n",
              "      <td>7</td>\n",
              "      <td>4</td>\n",
              "      <td>2.0</td>\n",
              "      <td>1.0</td>\n",
              "    </tr>\n",
              "    <tr>\n",
              "      <th>montrealVenusLocker</th>\n",
              "      <td>0.000240</td>\n",
              "      <td>0.000332</td>\n",
              "      <td>NaN</td>\n",
              "      <td>NaN</td>\n",
              "      <td>7</td>\n",
              "      <td>7</td>\n",
              "      <td>NaN</td>\n",
              "      <td>NaN</td>\n",
              "    </tr>\n",
              "    <tr>\n",
              "      <th>montrealCryptConsole</th>\n",
              "      <td>0.000240</td>\n",
              "      <td>0.000237</td>\n",
              "      <td>0.000229</td>\n",
              "      <td>0.000269</td>\n",
              "      <td>7</td>\n",
              "      <td>5</td>\n",
              "      <td>1.0</td>\n",
              "      <td>1.0</td>\n",
              "    </tr>\n",
              "    <tr>\n",
              "      <th>montrealEDA2</th>\n",
              "      <td>0.000206</td>\n",
              "      <td>0.000237</td>\n",
              "      <td>NaN</td>\n",
              "      <td>0.000269</td>\n",
              "      <td>6</td>\n",
              "      <td>5</td>\n",
              "      <td>NaN</td>\n",
              "      <td>1.0</td>\n",
              "    </tr>\n",
              "    <tr>\n",
              "      <th>montrealJigSaw</th>\n",
              "      <td>0.000137</td>\n",
              "      <td>0.000142</td>\n",
              "      <td>NaN</td>\n",
              "      <td>0.000269</td>\n",
              "      <td>4</td>\n",
              "      <td>3</td>\n",
              "      <td>NaN</td>\n",
              "      <td>1.0</td>\n",
              "    </tr>\n",
              "    <tr>\n",
              "      <th>paduaJigsaw</th>\n",
              "      <td>0.000069</td>\n",
              "      <td>0.000095</td>\n",
              "      <td>NaN</td>\n",
              "      <td>NaN</td>\n",
              "      <td>2</td>\n",
              "      <td>2</td>\n",
              "      <td>NaN</td>\n",
              "      <td>NaN</td>\n",
              "    </tr>\n",
              "    <tr>\n",
              "      <th>montrealXLocker</th>\n",
              "      <td>0.000034</td>\n",
              "      <td>0.000047</td>\n",
              "      <td>NaN</td>\n",
              "      <td>NaN</td>\n",
              "      <td>1</td>\n",
              "      <td>1</td>\n",
              "      <td>NaN</td>\n",
              "      <td>NaN</td>\n",
              "    </tr>\n",
              "    <tr>\n",
              "      <th>montrealSam</th>\n",
              "      <td>0.000034</td>\n",
              "      <td>0.000047</td>\n",
              "      <td>NaN</td>\n",
              "      <td>NaN</td>\n",
              "      <td>1</td>\n",
              "      <td>1</td>\n",
              "      <td>NaN</td>\n",
              "      <td>NaN</td>\n",
              "    </tr>\n",
              "    <tr>\n",
              "      <th>montrealComradeCircle</th>\n",
              "      <td>0.000034</td>\n",
              "      <td>0.000047</td>\n",
              "      <td>NaN</td>\n",
              "      <td>NaN</td>\n",
              "      <td>1</td>\n",
              "      <td>1</td>\n",
              "      <td>NaN</td>\n",
              "      <td>NaN</td>\n",
              "    </tr>\n",
              "  </tbody>\n",
              "</table>\n",
              "</div>\n",
              "      <button class=\"colab-df-convert\" onclick=\"convertToInteractive('df-35a8f17d-b8a5-40bc-afa2-e88885320d43')\"\n",
              "              title=\"Convert this dataframe to an interactive table.\"\n",
              "              style=\"display:none;\">\n",
              "        \n",
              "  <svg xmlns=\"http://www.w3.org/2000/svg\" height=\"24px\"viewBox=\"0 0 24 24\"\n",
              "       width=\"24px\">\n",
              "    <path d=\"M0 0h24v24H0V0z\" fill=\"none\"/>\n",
              "    <path d=\"M18.56 5.44l.94 2.06.94-2.06 2.06-.94-2.06-.94-.94-2.06-.94 2.06-2.06.94zm-11 1L8.5 8.5l.94-2.06 2.06-.94-2.06-.94L8.5 2.5l-.94 2.06-2.06.94zm10 10l.94 2.06.94-2.06 2.06-.94-2.06-.94-.94-2.06-.94 2.06-2.06.94z\"/><path d=\"M17.41 7.96l-1.37-1.37c-.4-.4-.92-.59-1.43-.59-.52 0-1.04.2-1.43.59L10.3 9.45l-7.72 7.72c-.78.78-.78 2.05 0 2.83L4 21.41c.39.39.9.59 1.41.59.51 0 1.02-.2 1.41-.59l7.78-7.78 2.81-2.81c.8-.78.8-2.07 0-2.86zM5.41 20L4 18.59l7.72-7.72 1.47 1.35L5.41 20z\"/>\n",
              "  </svg>\n",
              "      </button>\n",
              "      \n",
              "  <style>\n",
              "    .colab-df-container {\n",
              "      display:flex;\n",
              "      flex-wrap:wrap;\n",
              "      gap: 12px;\n",
              "    }\n",
              "\n",
              "    .colab-df-convert {\n",
              "      background-color: #E8F0FE;\n",
              "      border: none;\n",
              "      border-radius: 50%;\n",
              "      cursor: pointer;\n",
              "      display: none;\n",
              "      fill: #1967D2;\n",
              "      height: 32px;\n",
              "      padding: 0 0 0 0;\n",
              "      width: 32px;\n",
              "    }\n",
              "\n",
              "    .colab-df-convert:hover {\n",
              "      background-color: #E2EBFA;\n",
              "      box-shadow: 0px 1px 2px rgba(60, 64, 67, 0.3), 0px 1px 3px 1px rgba(60, 64, 67, 0.15);\n",
              "      fill: #174EA6;\n",
              "    }\n",
              "\n",
              "    [theme=dark] .colab-df-convert {\n",
              "      background-color: #3B4455;\n",
              "      fill: #D2E3FC;\n",
              "    }\n",
              "\n",
              "    [theme=dark] .colab-df-convert:hover {\n",
              "      background-color: #434B5C;\n",
              "      box-shadow: 0px 1px 3px 1px rgba(0, 0, 0, 0.15);\n",
              "      filter: drop-shadow(0px 1px 2px rgba(0, 0, 0, 0.3));\n",
              "      fill: #FFFFFF;\n",
              "    }\n",
              "  </style>\n",
              "\n",
              "      <script>\n",
              "        const buttonEl =\n",
              "          document.querySelector('#df-35a8f17d-b8a5-40bc-afa2-e88885320d43 button.colab-df-convert');\n",
              "        buttonEl.style.display =\n",
              "          google.colab.kernel.accessAllowed ? 'block' : 'none';\n",
              "\n",
              "        async function convertToInteractive(key) {\n",
              "          const element = document.querySelector('#df-35a8f17d-b8a5-40bc-afa2-e88885320d43');\n",
              "          const dataTable =\n",
              "            await google.colab.kernel.invokeFunction('convertToInteractive',\n",
              "                                                     [key], {});\n",
              "          if (!dataTable) return;\n",
              "\n",
              "          const docLinkHtml = 'Like what you see? Visit the ' +\n",
              "            '<a target=\"_blank\" href=https://colab.research.google.com/notebooks/data_table.ipynb>data table notebook</a>'\n",
              "            + ' to learn more about interactive tables.';\n",
              "          element.innerHTML = '';\n",
              "          dataTable['output_type'] = 'display_data';\n",
              "          await google.colab.output.renderOutput(dataTable, element);\n",
              "          const docLink = document.createElement('div');\n",
              "          docLink.innerHTML = docLinkHtml;\n",
              "          element.appendChild(docLink);\n",
              "        }\n",
              "      </script>\n",
              "    </div>\n",
              "  </div>\n",
              "  "
            ]
          },
          "metadata": {},
          "execution_count": 13
        }
      ]
    },
    {
      "cell_type": "markdown",
      "source": [
        "The distribution  of class labels in train and test set is nearly same as original distribution. This can be verified from the above dataframe"
      ],
      "metadata": {
        "id": "v3jzSI3pmeNi"
      }
    },
    {
      "cell_type": "markdown",
      "source": [
        "## **Training the decision tree using both 'gini' and 'entropy' and changing the max_depth as [4,8,10,15,20]**\n"
      ],
      "metadata": {
        "id": "kAnDlQbb11kW"
      }
    },
    {
      "cell_type": "code",
      "source": [
        "from sklearn.tree import DecisionTreeClassifier\n",
        "from sklearn.metrics import accuracy_score\n",
        "\n",
        "max_depth=[4,8,10,15,20]\n",
        "criterion=['gini', 'entropy']\n",
        "acc_scores_test={}\n",
        "acc_scores_test['gini']=[]\n",
        "acc_scores_test['entropy']=[]\n",
        "d_models=[]\n",
        "for depth in max_depth:\n",
        "  for criteria in criterion:\n",
        "    mod_name='d_model'+str(depth)+criteria\n",
        "\n",
        "    mod_name=DecisionTreeClassifier(max_depth=depth,criterion=criteria)\n",
        "    mod_name.fit(X_train,Y_train)\n",
        "    d_models.append(mod_name)\n",
        "    Y_pred=mod_name.predict(X_test)\n",
        "    score=accuracy_score(Y_test,Y_pred)\n",
        "    acc_scores_test[criteria].append((score,depth))\n",
        "    print(f'Finished for depth: {depth} and critera:{criteria}')\n",
        "    "
      ],
      "metadata": {
        "id": "8_Y9Tja-J-J_",
        "colab": {
          "base_uri": "https://localhost:8080/"
        },
        "outputId": "263a0e9c-497c-483f-d432-c3c34a3e4b32"
      },
      "execution_count": null,
      "outputs": [
        {
          "output_type": "stream",
          "name": "stdout",
          "text": [
            "Finished for depth: 4 and critera:gini\n",
            "Finished for depth: 4 and critera:entropy\n",
            "Finished for depth: 8 and critera:gini\n",
            "Finished for depth: 8 and critera:entropy\n",
            "Finished for depth: 10 and critera:gini\n",
            "Finished for depth: 10 and critera:entropy\n",
            "Finished for depth: 15 and critera:gini\n",
            "Finished for depth: 15 and critera:entropy\n",
            "Finished for depth: 20 and critera:gini\n",
            "Finished for depth: 20 and critera:entropy\n"
          ]
        }
      ]
    },
    {
      "cell_type": "code",
      "source": [
        "acc_scores_test"
      ],
      "metadata": {
        "colab": {
          "base_uri": "https://localhost:8080/"
        },
        "id": "034-EhjaKkKZ",
        "outputId": "579ab568-c2df-46d4-810e-6bf04716e36f"
      },
      "execution_count": null,
      "outputs": [
        {
          "output_type": "execute_result",
          "data": {
            "text/plain": [
              "{'gini': [(0.9857990194397779, 4),\n",
              "  (0.9864070124912858, 8),\n",
              "  (0.9869921486611581, 10),\n",
              "  (0.988114421549468, 15),\n",
              "  (0.9867407229631662, 20)],\n",
              " 'entropy': [(0.9857990194397779, 4),\n",
              "  (0.9860893018365504, 8),\n",
              "  (0.9872778596816036, 10),\n",
              "  (0.9882104204523376, 15),\n",
              "  (0.9863247277173975, 20)]}"
            ]
          },
          "metadata": {},
          "execution_count": 16
        }
      ]
    },
    {
      "cell_type": "code",
      "source": [
        "plt.figure(figsize=(7,6))\n",
        "for criteria in acc_scores_test:\n",
        "  max_depth=[]\n",
        "  accuracy=[]\n",
        "  for acc, depth in acc_scores_test[criteria]:\n",
        "    accuracy.append(acc)\n",
        "    max_depth.append(depth)\n",
        "  plt.plot(max_depth,accuracy,marker='x',label=f'{criteria}')\n",
        "  plt.xlabel('Depth of Tree')\n",
        "  plt.ylabel('Accuracy')\n",
        "  plt.legend()\n",
        "\n",
        "plt.show()"
      ],
      "metadata": {
        "colab": {
          "base_uri": "https://localhost:8080/",
          "height": 388
        },
        "id": "Yc1JYOorOtkO",
        "outputId": "2d2b119e-866f-48ec-f9e6-21852104e2f0"
      },
      "execution_count": null,
      "outputs": [
        {
          "output_type": "display_data",
          "data": {
            "text/plain": [
              "<Figure size 504x432 with 1 Axes>"
            ],
            "image/png": "[encoded data removed]"
          },
          "metadata": {
            "needs_background": "light"
          }
        }
      ]
    },
    {
      "cell_type": "markdown",
      "source": [
        "\n",
        "* The criteria for the best accuracy on the test set is 'entropy' and depth=15. \n",
        "*   Best accuracy is reported as 98.882%.\n",
        "* The percentage of records belonging to the dominant class(label='white') is 98.57%. Hence the baseline accuracy can be fixed as 98.57%. \n",
        "* The best decision tree achieves the accuracy of 98.882%  , thus beating the baseline accuracy(98.57%)\n",
        "\n"
      ],
      "metadata": {
        "id": "tfuuHAAsN-8G"
      }
    },
    {
      "cell_type": "markdown",
      "source": [
        "## **Additionally the decision tree accuracy has also been found on the validation set as shown below**"
      ],
      "metadata": {
        "id": "AZKeutmhQS9d"
      }
    },
    {
      "cell_type": "code",
      "source": [
        "max_depth=[4,8,10,15,20]\n",
        "criterion=['gini', 'entropy']\n",
        "\n",
        "\n",
        "acc_scores_val={}\n",
        "acc_scores_val['gini']=[]\n",
        "acc_scores_val['entropy']=[]\n",
        "\n",
        "d_models=np.array(d_models)\n",
        "d_models=d_models.reshape((5,2))\n",
        "\n",
        "for i in range(len(max_depth)):\n",
        "  for j in range(len(criterion)):\n",
        "    ypred_val=d_models[i][j].predict(X_val)\n",
        "    score=accuracy_score(Y_val,ypred_val)\n",
        "    acc_scores_val[criterion[j]].append((score,max_depth[i]))\n",
        "    print(f'Finished for depth: {max_depth[i]} and critera:{criterion[j]}')\n",
        "    \n",
        "\n",
        "\n",
        "\n"
      ],
      "metadata": {
        "colab": {
          "base_uri": "https://localhost:8080/"
        },
        "id": "kQXPSgWRbV3h",
        "outputId": "31bda5d4-35da-4b88-e57d-4e24cdab8c87"
      },
      "execution_count": null,
      "outputs": [
        {
          "output_type": "stream",
          "name": "stdout",
          "text": [
            "Finished for depth: 4 and critera:gini\n",
            "Finished for depth: 4 and critera:entropy\n",
            "Finished for depth: 8 and critera:gini\n",
            "Finished for depth: 8 and critera:entropy\n",
            "Finished for depth: 10 and critera:gini\n",
            "Finished for depth: 10 and critera:entropy\n",
            "Finished for depth: 15 and critera:gini\n",
            "Finished for depth: 15 and critera:entropy\n",
            "Finished for depth: 20 and critera:gini\n",
            "Finished for depth: 20 and critera:entropy\n"
          ]
        }
      ]
    },
    {
      "cell_type": "code",
      "source": [
        "acc_scores_val"
      ],
      "metadata": {
        "colab": {
          "base_uri": "https://localhost:8080/"
        },
        "id": "NHkJ8A-kgSvb",
        "outputId": "d813853c-da88-4ce4-8a57-ed13dc7f2721"
      },
      "execution_count": null,
      "outputs": [
        {
          "output_type": "execute_result",
          "data": {
            "text/plain": [
              "{'gini': [(0.9857480524579232, 4),\n",
              "  (0.9864041798541999, 8),\n",
              "  (0.9869661906157648, 10),\n",
              "  (0.9878078622347591, 15),\n",
              "  (0.9866730845248051, 20)],\n",
              " 'entropy': [(0.9857480524579232, 4),\n",
              "  (0.9860895613895918, 8),\n",
              "  (0.987286187173785, 10),\n",
              "  (0.9878159293748773, 15),\n",
              "  (0.985944352867465, 20)]}"
            ]
          },
          "metadata": {},
          "execution_count": 19
        }
      ]
    },
    {
      "cell_type": "code",
      "source": [
        "plt.figure(figsize=(7,6))\n",
        "for criteria in acc_scores_test:\n",
        "  max_depth=[]\n",
        "  accuracy=[]\n",
        "  for acc, depth in acc_scores_val[criteria]:\n",
        "    accuracy.append(acc)\n",
        "    max_depth.append(depth)\n",
        "  plt.plot(max_depth,accuracy,marker='x',label=f'{criteria}')\n",
        "  plt.xlabel('Depth of Tree')\n",
        "  plt.ylabel('Accuracy')\n",
        "  plt.legend()\n",
        "\n",
        "plt.show()"
      ],
      "metadata": {
        "colab": {
          "base_uri": "https://localhost:8080/",
          "height": 388
        },
        "id": "66xbFAz4eE4s",
        "outputId": "98ff0300-7b4c-478a-8f95-137fb7dd4c11"
      },
      "execution_count": null,
      "outputs": [
        {
          "output_type": "display_data",
          "data": {
            "text/plain": [
              "<Figure size 504x432 with 1 Axes>"
            ],
            "image/png": "[encoded data removed]"
          },
          "metadata": {
            "needs_background": "light"
          }
        }
      ]
    },
    {
      "cell_type": "markdown",
      "source": [
        "* The best accuracy is still getting obtained with the same criteria for the decison tree i.e. 'entropy' and depth=15 as visible from the graph above.\n",
        "*   The best accuracy on validation set is  reported as 98.78% which is almost equal to that on test set.\n",
        "\n",
        "\n"
      ],
      "metadata": {
        "id": "k7n4D3MaQ5mg"
      }
    },
    {
      "cell_type": "markdown",
      "source": [
        "# **Creating the Ensemble Model**\n",
        "* Creating 100 different decision stumps with max_depth=3.\n",
        "* Out of the training data each time a different 50% random sample of the training set has been drawn using different seeds, for each of the 100 decision stumps.\n",
        "* The ensemble assumes 100 different decision stumps in it. \n"
      ],
      "metadata": {
        "id": "td0y0Um_1_u6"
      }
    },
    {
      "cell_type": "code",
      "source": [
        "from sklearn.tree import DecisionTreeClassifier\n",
        "# 9 min\n",
        "\n",
        "y_pred_100=np.zeros((100,X_test.shape[0]),dtype='object')\n",
        "# defining y_pred_100 to store the predicted class labels for 100 different decision stumps\n",
        "\n",
        "for i in range(100):\n",
        "  np.random.seed(i) # selecting the seed from range [0,99]\n",
        "  indices=[i for i in range(len(X_train))]\n",
        "  random_indices=np.random.choice(indices,len(X_train)//2,replace=False)\n",
        "  X_stump=X_train.iloc[random_indices]\n",
        "  Y_stump=Y_train.iloc[random_indices]\n",
        "\n",
        "  d_model=DecisionTreeClassifier(max_depth=3)\n",
        "  d_model.fit(X_stump,Y_stump)\n",
        "\n",
        "  y_pred=d_model.predict(X_test)\n",
        "  y_pred_100[i]=y_pred\n",
        "  print(f'Finished Decsion stump: {i+1}')\n",
        "\n"
      ],
      "metadata": {
        "colab": {
          "base_uri": "https://localhost:8080/"
        },
        "id": "e2X9MZOQOcz0",
        "outputId": "50bc1d4d-54c8-47a4-e6c7-5dc507868e75"
      },
      "execution_count": null,
      "outputs": [
        {
          "output_type": "stream",
          "name": "stdout",
          "text": [
            "Finished Decsion stump: 1\n",
            "Finished Decsion stump: 2\n",
            "Finished Decsion stump: 3\n",
            "Finished Decsion stump: 4\n",
            "Finished Decsion stump: 5\n",
            "Finished Decsion stump: 6\n",
            "Finished Decsion stump: 7\n",
            "Finished Decsion stump: 8\n",
            "Finished Decsion stump: 9\n",
            "Finished Decsion stump: 10\n",
            "Finished Decsion stump: 11\n",
            "Finished Decsion stump: 12\n",
            "Finished Decsion stump: 13\n",
            "Finished Decsion stump: 14\n",
            "Finished Decsion stump: 15\n",
            "Finished Decsion stump: 16\n",
            "Finished Decsion stump: 17\n",
            "Finished Decsion stump: 18\n",
            "Finished Decsion stump: 19\n",
            "Finished Decsion stump: 20\n",
            "Finished Decsion stump: 21\n",
            "Finished Decsion stump: 22\n",
            "Finished Decsion stump: 23\n",
            "Finished Decsion stump: 24\n",
            "Finished Decsion stump: 25\n",
            "Finished Decsion stump: 26\n",
            "Finished Decsion stump: 27\n",
            "Finished Decsion stump: 28\n",
            "Finished Decsion stump: 29\n",
            "Finished Decsion stump: 30\n",
            "Finished Decsion stump: 31\n",
            "Finished Decsion stump: 32\n",
            "Finished Decsion stump: 33\n",
            "Finished Decsion stump: 34\n",
            "Finished Decsion stump: 35\n",
            "Finished Decsion stump: 36\n",
            "Finished Decsion stump: 37\n",
            "Finished Decsion stump: 38\n",
            "Finished Decsion stump: 39\n",
            "Finished Decsion stump: 40\n",
            "Finished Decsion stump: 41\n",
            "Finished Decsion stump: 42\n",
            "Finished Decsion stump: 43\n",
            "Finished Decsion stump: 44\n",
            "Finished Decsion stump: 45\n",
            "Finished Decsion stump: 46\n",
            "Finished Decsion stump: 47\n",
            "Finished Decsion stump: 48\n",
            "Finished Decsion stump: 49\n",
            "Finished Decsion stump: 50\n",
            "Finished Decsion stump: 51\n",
            "Finished Decsion stump: 52\n",
            "Finished Decsion stump: 53\n",
            "Finished Decsion stump: 54\n",
            "Finished Decsion stump: 55\n",
            "Finished Decsion stump: 56\n",
            "Finished Decsion stump: 57\n",
            "Finished Decsion stump: 58\n",
            "Finished Decsion stump: 59\n",
            "Finished Decsion stump: 60\n",
            "Finished Decsion stump: 61\n",
            "Finished Decsion stump: 62\n",
            "Finished Decsion stump: 63\n",
            "Finished Decsion stump: 64\n",
            "Finished Decsion stump: 65\n",
            "Finished Decsion stump: 66\n",
            "Finished Decsion stump: 67\n",
            "Finished Decsion stump: 68\n",
            "Finished Decsion stump: 69\n",
            "Finished Decsion stump: 70\n",
            "Finished Decsion stump: 71\n",
            "Finished Decsion stump: 72\n",
            "Finished Decsion stump: 73\n",
            "Finished Decsion stump: 74\n",
            "Finished Decsion stump: 75\n",
            "Finished Decsion stump: 76\n",
            "Finished Decsion stump: 77\n",
            "Finished Decsion stump: 78\n",
            "Finished Decsion stump: 79\n",
            "Finished Decsion stump: 80\n",
            "Finished Decsion stump: 81\n",
            "Finished Decsion stump: 82\n",
            "Finished Decsion stump: 83\n",
            "Finished Decsion stump: 84\n",
            "Finished Decsion stump: 85\n",
            "Finished Decsion stump: 86\n",
            "Finished Decsion stump: 87\n",
            "Finished Decsion stump: 88\n",
            "Finished Decsion stump: 89\n",
            "Finished Decsion stump: 90\n",
            "Finished Decsion stump: 91\n",
            "Finished Decsion stump: 92\n",
            "Finished Decsion stump: 93\n",
            "Finished Decsion stump: 94\n",
            "Finished Decsion stump: 95\n",
            "Finished Decsion stump: 96\n",
            "Finished Decsion stump: 97\n",
            "Finished Decsion stump: 98\n",
            "Finished Decsion stump: 99\n",
            "Finished Decsion stump: 100\n"
          ]
        }
      ]
    },
    {
      "cell_type": "code",
      "source": [
        "y_pred_100.shape"
      ],
      "metadata": {
        "colab": {
          "base_uri": "https://localhost:8080/"
        },
        "id": "o7bT-ivUrf3P",
        "outputId": "055be94f-9a70-4937-8894-5deeb43dc1ed"
      },
      "execution_count": null,
      "outputs": [
        {
          "output_type": "execute_result",
          "data": {
            "text/plain": [
              "(100, 437505)"
            ]
          },
          "metadata": {},
          "execution_count": 13
        }
      ]
    },
    {
      "cell_type": "markdown",
      "source": [
        "Finding out the majority vote for the predicted class labels from the 100 decision stumps"
      ],
      "metadata": {
        "id": "EXjrwPipKV7e"
      }
    },
    {
      "cell_type": "code",
      "source": [
        "y_pred_final= np.zeros((X_test.shape[0],1),dtype='object')\n",
        "y_pred_100= y_pred_100.T\n",
        "for i in range(X_test.shape[0]):\n",
        "  dstump1=y_pred_100[i].tolist()\n",
        "  y_pred_final[i]=max(set(dstump1), key=lambda x: dstump1.count(x))\n"
      ],
      "metadata": {
        "id": "eqGF7H5HPNnX"
      },
      "execution_count": null,
      "outputs": []
    },
    {
      "cell_type": "markdown",
      "source": [
        "Class labels for the original test data"
      ],
      "metadata": {
        "id": "lFSo-kBgLB9J"
      }
    },
    {
      "cell_type": "code",
      "source": [
        "Y_test.value_counts(normalize=True)*100"
      ],
      "metadata": {
        "colab": {
          "base_uri": "https://localhost:8080/"
        },
        "id": "F5jPkPIWvyFu",
        "outputId": "417ad5bd-2ecf-4735-839d-b51c2840e448"
      },
      "execution_count": null,
      "outputs": [
        {
          "output_type": "execute_result",
          "data": {
            "text/plain": [
              "white                          98.574805\n",
              "paduaCryptoWall                 0.424332\n",
              "montrealCryptoLocker            0.329139\n",
              "princetonCerber                 0.319459\n",
              "princetonLocky                  0.225073\n",
              "montrealCryptXXX                0.079327\n",
              "montrealNoobCrypt               0.015596\n",
              "montrealDMALockerv3             0.014521\n",
              "montrealDMALocker               0.006992\n",
              "montrealSamSam                  0.002689\n",
              "montrealGlobeImposter           0.002420\n",
              "montrealCryptoTorLocker2015     0.001345\n",
              "montrealGlobe                   0.001345\n",
              "montrealGlobev3                 0.000538\n",
              "montrealRazy                    0.000538\n",
              "montrealAPT                     0.000269\n",
              "montrealCryptConsole            0.000269\n",
              "montrealJigSaw                  0.000269\n",
              "montrealFlyper                  0.000269\n",
              "montrealXLockerv5.0             0.000269\n",
              "paduaKeRanger                   0.000269\n",
              "montrealEDA2                    0.000269\n",
              "Name: label, dtype: float64"
            ]
          },
          "metadata": {},
          "execution_count": 90
        }
      ]
    },
    {
      "cell_type": "markdown",
      "source": [
        "Class labels for the prediction on 100 different decsion stumps"
      ],
      "metadata": {
        "id": "paGRTBYXLFlw"
      }
    },
    {
      "cell_type": "code",
      "source": [
        "y_pred_final_series=pd.Series(y_pred_final.reshape(-1))\n",
        "y_pred_final_series.value_counts(normalize=True)*100"
      ],
      "metadata": {
        "colab": {
          "base_uri": "https://localhost:8080/"
        },
        "id": "Vi669fdELYMP",
        "outputId": "73153437-99b6-404b-8af8-fc32b3e45047"
      },
      "execution_count": null,
      "outputs": [
        {
          "output_type": "execute_result",
          "data": {
            "text/plain": [
              "white    100.0\n",
              "dtype: float64"
            ]
          },
          "metadata": {},
          "execution_count": 23
        }
      ]
    },
    {
      "cell_type": "markdown",
      "source": [
        "There is only one class label(white) predicted by the 100 different decision tree stump based ensemble."
      ],
      "metadata": {
        "id": "8rZcViyILXlT"
      }
    },
    {
      "cell_type": "code",
      "source": [
        "from sklearn.metrics import accuracy_score\n",
        "\n",
        "accuracy_score(y_pred_final,Y_test)"
      ],
      "metadata": {
        "colab": {
          "base_uri": "https://localhost:8080/"
        },
        "id": "xU8HGgFZOPwP",
        "outputId": "87ebf337-a4be-419a-f73b-b27441c4ba75"
      },
      "execution_count": null,
      "outputs": [
        {
          "output_type": "execute_result",
          "data": {
            "text/plain": [
              "0.9857990194397779"
            ]
          },
          "metadata": {},
          "execution_count": 23
        }
      ]
    },
    {
      "cell_type": "markdown",
      "source": [
        "\n",
        "\n",
        "*   The accuracy of ensemble method is same as the baseline accuracy i.e 98.57%.\n",
        "*   Thus there is no improvement in accuracy using the ensemble method and it performs worse than Decision Tree classifier.\n",
        "* The possible reason could be the restricted per decision stump depth of value 3.\n"
      ],
      "metadata": {
        "id": "QzAS4LvI3lHc"
      }
    },
    {
      "cell_type": "markdown",
      "source": [
        "# **Using Adaboost and making comparsions**"
      ],
      "metadata": {
        "id": "i0Y-rry_2Ifa"
      }
    },
    {
      "cell_type": "code",
      "source": [
        "from sklearn.ensemble import AdaBoostClassifier, RandomForestClassifier\n",
        "from sklearn.tree import DecisionTreeClassifier\n",
        "\n",
        "\n",
        "estimators=[4,8,10,15,20]\n",
        "dt=DecisionTreeClassifier(criterion='entropy',max_depth=15)\n",
        "accuracy_ADB=[]\n",
        "for estimator in estimators: #takes 43 mins\n",
        "  clf = AdaBoostClassifier(n_estimators=estimator, base_estimator=dt,random_state=0)\n",
        "  clf.fit(X_train,Y_train)\n",
        "  y_pred=clf.predict(X_test)\n",
        "  score=accuracy_score(y_pred,Y_test)\n",
        "  accuracy_ADB.append(score)\n",
        "  print(f'Finished for estimator: {estimator}')"
      ],
      "metadata": {
        "id": "jX0hyupORp_-",
        "colab": {
          "base_uri": "https://localhost:8080/"
        },
        "outputId": "3fca38e9-f3cb-498f-cebf-ef2a6c55b0e8"
      },
      "execution_count": null,
      "outputs": [
        {
          "output_type": "stream",
          "name": "stdout",
          "text": [
            "Finished for estimator: 4\n",
            "Finished for estimator: 8\n",
            "Finished for estimator: 10\n",
            "Finished for estimator: 15\n",
            "Finished for estimator: 20\n"
          ]
        }
      ]
    },
    {
      "cell_type": "markdown",
      "source": [
        "Accuracy for Adaboost"
      ],
      "metadata": {
        "id": "37-Yo3pbMsbY"
      }
    },
    {
      "cell_type": "code",
      "source": [
        "accuracy_ADB"
      ],
      "metadata": {
        "id": "wn6c5pYenMG-",
        "colab": {
          "base_uri": "https://localhost:8080/"
        },
        "outputId": "e54e18fb-bc6b-4215-bc3d-eb081d5a257c"
      },
      "execution_count": null,
      "outputs": [
        {
          "output_type": "execute_result",
          "data": {
            "text/plain": [
              "[0.9878195677763683,\n",
              " 0.9860527308259334,\n",
              " 0.985069884915601,\n",
              " 0.9844116067244946,\n",
              " 0.985751019988343]"
            ]
          },
          "metadata": {},
          "execution_count": 25
        }
      ]
    },
    {
      "cell_type": "markdown",
      "source": [
        "## **Creating Random Forest for comparsion**"
      ],
      "metadata": {
        "id": "YN7bobWNMw2l"
      }
    },
    {
      "cell_type": "code",
      "source": [
        "accuracy_RF=[] #8 mins+\n",
        "estimators=[4,8,10,15,20]\n",
        "for estimator in estimators:\n",
        "  d_model=RandomForestClassifier(n_estimators=estimator,max_depth=15,criterion='entropy') \n",
        "  d_model.fit(X_train,Y_train)\n",
        "  y_pred=d_model.predict(X_test)\n",
        "  score=accuracy_score(Y_test,y_pred)\n",
        "  accuracy_RF.append(score)\n",
        "  print(f'Finished for estimator: {estimator}')\n",
        "\n",
        "\n"
      ],
      "metadata": {
        "id": "mA2HUrNxSUCj",
        "colab": {
          "base_uri": "https://localhost:8080/"
        },
        "outputId": "7726a570-130f-41fe-c153-a7c21c844cbd"
      },
      "execution_count": null,
      "outputs": [
        {
          "output_type": "stream",
          "name": "stdout",
          "text": [
            "Finished for estimator: 4\n",
            "Finished for estimator: 8\n",
            "Finished for estimator: 10\n",
            "Finished for estimator: 15\n",
            "Finished for estimator: 20\n"
          ]
        }
      ]
    },
    {
      "cell_type": "markdown",
      "source": [
        "Accuracy for Random forest"
      ],
      "metadata": {
        "id": "OUnRsimGM2qd"
      }
    },
    {
      "cell_type": "code",
      "source": [
        "accuracy_RF "
      ],
      "metadata": {
        "id": "bQXf-vN5traa",
        "colab": {
          "base_uri": "https://localhost:8080/"
        },
        "outputId": "52dc2402-a814-46cc-87e4-7b50af702748"
      },
      "execution_count": null,
      "outputs": [
        {
          "output_type": "execute_result",
          "data": {
            "text/plain": [
              "[0.986752151403984,\n",
              " 0.9866812950709135,\n",
              " 0.9867110090170398,\n",
              " 0.9865852961680438,\n",
              " 0.986589867544371]"
            ]
          },
          "metadata": {},
          "execution_count": 27
        }
      ]
    },
    {
      "cell_type": "markdown",
      "source": [
        "Graph illustrating accuracy of Adaboost and Random Forest for different number of estimators"
      ],
      "metadata": {
        "id": "GwpYoTQ-M8-H"
      }
    },
    {
      "cell_type": "code",
      "source": [
        "plt.figure(figsize=(7,6))\n",
        "plt.plot(estimators,accuracy_RF, label='Random Forest',marker='x')\n",
        "plt.plot(estimators,accuracy_ADB, label='Adaboost',marker='x')\n",
        "plt.xlabel('Number of estimators')\n",
        "plt.ylabel('Accuracy')\n",
        "plt.legend()\n",
        "plt.show()"
      ],
      "metadata": {
        "id": "gfByR_Futn7Y",
        "colab": {
          "base_uri": "https://localhost:8080/",
          "height": 388
        },
        "outputId": "e94b7dbe-ab71-4caa-b81b-ef3fd6c7bd27"
      },
      "execution_count": null,
      "outputs": [
        {
          "output_type": "display_data",
          "data": {
            "text/plain": [
              "<Figure size 504x432 with 1 Axes>"
            ],
            "image/png": "[encoded data removed]"
          },
          "metadata": {
            "needs_background": "light"
          }
        }
      ]
    },
    {
      "cell_type": "markdown",
      "source": [
        "\n",
        "\n",
        "*   Adaboost achieves highest accuracy of 98.78% for n_estimators=4, but accuracy keeps dropping for the rest of the values of n_estimators.\n",
        "* Random forest shows similar accuracy=98.67% for all the different number of estimators.\n",
        "* Comparison of accuracy for Decision Tree, Adaboost and Random Forest\n",
        "* Best accuracy=98.88% is obtained using Decision Tree.\n",
        "* Second best accuracy=98.78% is of Adaboost.\n",
        "* The accuracy=98.67% of random forest is next.\n",
        "* The 100 decision stumps based ensemble model has accuracy of 98.57%.\n",
        "* The class imbalance in the data maybe a possible reason for the underperformance of Random Forest, Adaboost and ensemble.\n",
        "\n"
      ],
      "metadata": {
        "id": "0J1zRX4UcwQS"
      }
    }
  ]
}